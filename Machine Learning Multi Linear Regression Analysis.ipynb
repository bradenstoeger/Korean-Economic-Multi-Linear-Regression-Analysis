{
 "cells": [
  {
   "cell_type": "code",
   "execution_count": 97,
   "metadata": {},
   "outputs": [],
   "source": [
    "import matplotlib.pyplot as plt\n",
    "import seaborn as sns\n",
    "import pandas as pd\n",
    "import numpy as np\n",
    "import pylab\n",
    "import math\n",
    "\n",
    "from scipy import stats\n",
    "\n",
    "import statsmodels.api as sm\n",
    "from statsmodels.stats import diagnostic as diag\n",
    "from statsmodels.stats.outliers_influence import variance_inflation_factor\n",
    "\n",
    "from sklearn.model_selection import train_test_split\n",
    "from sklearn.linear_model import LinearRegression\n",
    "from sklearn.metrics import mean_squared_error, r2_score, mean_absolute_error\n",
    "\n",
    "%matplotlib inline"
   ]
  },
  {
   "cell_type": "code",
   "execution_count": 98,
   "metadata": {},
   "outputs": [
    {
     "data": {
      "text/plain": [
       "'----------------------------------------------------------------------------------------------------'"
      ]
     },
     "metadata": {},
     "output_type": "display_data"
    },
    {
     "data": {
      "text/plain": [
       "gdp_growth         False\n",
       "gross_capital      False\n",
       "pop_growth         False\n",
       "birth_rate         False\n",
       "broad_money        False\n",
       "final_consum       False\n",
       "gen_govt_consum    False\n",
       "gross_capital      False\n",
       "household          False\n",
       "unemployed         False\n",
       "dtype: bool"
      ]
     },
     "metadata": {},
     "output_type": "display_data"
    },
    {
     "data": {
      "text/html": [
       "<div>\n",
       "<style scoped>\n",
       "    .dataframe tbody tr th:only-of-type {\n",
       "        vertical-align: middle;\n",
       "    }\n",
       "\n",
       "    .dataframe tbody tr th {\n",
       "        vertical-align: top;\n",
       "    }\n",
       "\n",
       "    .dataframe thead th {\n",
       "        text-align: right;\n",
       "    }\n",
       "</style>\n",
       "<table border=\"1\" class=\"dataframe\">\n",
       "  <thead>\n",
       "    <tr style=\"text-align: right;\">\n",
       "      <th></th>\n",
       "      <th>gdp_growth</th>\n",
       "      <th>gross_capital</th>\n",
       "      <th>pop_growth</th>\n",
       "      <th>birth_rate</th>\n",
       "      <th>broad_money</th>\n",
       "      <th>final_consum</th>\n",
       "      <th>gen_govt_consum</th>\n",
       "      <th>gross_capital</th>\n",
       "      <th>household</th>\n",
       "      <th>unemployed</th>\n",
       "    </tr>\n",
       "    <tr>\n",
       "      <th>Year</th>\n",
       "      <th></th>\n",
       "      <th></th>\n",
       "      <th></th>\n",
       "      <th></th>\n",
       "      <th></th>\n",
       "      <th></th>\n",
       "      <th></th>\n",
       "      <th></th>\n",
       "      <th></th>\n",
       "      <th></th>\n",
       "    </tr>\n",
       "  </thead>\n",
       "  <tbody>\n",
       "    <tr>\n",
       "      <th>1969</th>\n",
       "      <td>14.541235</td>\n",
       "      <td>29.943577</td>\n",
       "      <td>2.263434</td>\n",
       "      <td>30.663</td>\n",
       "      <td>60.984733</td>\n",
       "      <td>10.693249</td>\n",
       "      <td>10.640799</td>\n",
       "      <td>29.908118</td>\n",
       "      <td>10.700325</td>\n",
       "      <td>4.86</td>\n",
       "    </tr>\n",
       "    <tr>\n",
       "      <th>1970</th>\n",
       "      <td>9.997407</td>\n",
       "      <td>26.338200</td>\n",
       "      <td>2.184174</td>\n",
       "      <td>31.200</td>\n",
       "      <td>27.422864</td>\n",
       "      <td>10.161539</td>\n",
       "      <td>7.279573</td>\n",
       "      <td>0.058667</td>\n",
       "      <td>10.557300</td>\n",
       "      <td>4.51</td>\n",
       "    </tr>\n",
       "    <tr>\n",
       "      <th>1971</th>\n",
       "      <td>10.454693</td>\n",
       "      <td>25.558501</td>\n",
       "      <td>1.971324</td>\n",
       "      <td>31.200</td>\n",
       "      <td>20.844481</td>\n",
       "      <td>9.330434</td>\n",
       "      <td>8.610547</td>\n",
       "      <td>15.172870</td>\n",
       "      <td>9.426969</td>\n",
       "      <td>4.57</td>\n",
       "    </tr>\n",
       "    <tr>\n",
       "      <th>1972</th>\n",
       "      <td>7.150715</td>\n",
       "      <td>21.404761</td>\n",
       "      <td>1.875999</td>\n",
       "      <td>28.400</td>\n",
       "      <td>33.815028</td>\n",
       "      <td>5.788458</td>\n",
       "      <td>8.134824</td>\n",
       "      <td>-13.056701</td>\n",
       "      <td>5.471355</td>\n",
       "      <td>4.59</td>\n",
       "    </tr>\n",
       "    <tr>\n",
       "      <th>1973</th>\n",
       "      <td>14.827554</td>\n",
       "      <td>25.872858</td>\n",
       "      <td>1.768293</td>\n",
       "      <td>28.300</td>\n",
       "      <td>36.415629</td>\n",
       "      <td>8.089952</td>\n",
       "      <td>2.287729</td>\n",
       "      <td>32.098276</td>\n",
       "      <td>8.927295</td>\n",
       "      <td>4.04</td>\n",
       "    </tr>\n",
       "  </tbody>\n",
       "</table>\n",
       "</div>"
      ],
      "text/plain": [
       "      gdp_growth  gross_capital  pop_growth  birth_rate  broad_money  \\\n",
       "Year                                                                   \n",
       "1969   14.541235      29.943577    2.263434      30.663    60.984733   \n",
       "1970    9.997407      26.338200    2.184174      31.200    27.422864   \n",
       "1971   10.454693      25.558501    1.971324      31.200    20.844481   \n",
       "1972    7.150715      21.404761    1.875999      28.400    33.815028   \n",
       "1973   14.827554      25.872858    1.768293      28.300    36.415629   \n",
       "\n",
       "      final_consum  gen_govt_consum  gross_capital  household  unemployed  \n",
       "Year                                                                       \n",
       "1969     10.693249        10.640799      29.908118  10.700325        4.86  \n",
       "1970     10.161539         7.279573       0.058667  10.557300        4.51  \n",
       "1971      9.330434         8.610547      15.172870   9.426969        4.57  \n",
       "1972      5.788458         8.134824     -13.056701   5.471355        4.59  \n",
       "1973      8.089952         2.287729      32.098276   8.927295        4.04  "
      ]
     },
     "execution_count": 98,
     "metadata": {},
     "output_type": "execute_result"
    }
   ],
   "source": [
    "path = r\"/Users/BradenStoeger/Desktop/korea_data.xlsx\"\n",
    "econ_df = pd.read_excel(path)\n",
    "econ_df = econ_df.replace(\"..\", 'nan')\n",
    "\n",
    "econ_df.index = econ_df[\"Year\"]\n",
    "econ_df = econ_df.drop(\"Year\", axis = 1)\n",
    "\n",
    "econ_df = econ_df.astype(float)\n",
    "econ_df = econ_df.loc[\"1969\":\"2016\"]\n",
    "\n",
    "column_names = {\"GDP growth (annual %)\": 'gdp_growth', \n",
    "               'Gross capital formation (% of GDP)': 'gross_capital',\n",
    "               'Population growth (annual %)': 'pop_growth',\n",
    "               'Birth rate, crude (per 1,000 people)': 'birth_rate',\n",
    "               'Broad money growth (annual %)': 'broad_money',\n",
    "               'Final consumption expenditure (% of GDP)':'final_consum_gdp',\n",
    "                'Final consumption expenditure (annual % growth)': 'final_consum',\n",
    "               'General government final consumption expenditure (annual % growth)': 'gen_govt_consum',\n",
    "               'Gross capital formation (annual % growth)': 'gross_capital',\n",
    "               'Households and NPISHs Final consumption expenditure (annual % growth)': 'household',\n",
    "               'Unemployment, total (% of total labor force) (national estimate)': 'unemployed'}\n",
    "econ_df = econ_df.rename(columns = column_names)\n",
    "\n",
    "display('-'*100)\n",
    "display(econ_df.isnull().any())\n",
    "econ_df.head()"
   ]
  },
  {
   "cell_type": "code",
   "execution_count": 99,
   "metadata": {},
   "outputs": [
    {
     "data": {
      "text/html": [
       "<div>\n",
       "<style scoped>\n",
       "    .dataframe tbody tr th:only-of-type {\n",
       "        vertical-align: middle;\n",
       "    }\n",
       "\n",
       "    .dataframe tbody tr th {\n",
       "        vertical-align: top;\n",
       "    }\n",
       "\n",
       "    .dataframe thead th {\n",
       "        text-align: right;\n",
       "    }\n",
       "</style>\n",
       "<table border=\"1\" class=\"dataframe\">\n",
       "  <thead>\n",
       "    <tr style=\"text-align: right;\">\n",
       "      <th></th>\n",
       "      <th>gdp_growth</th>\n",
       "      <th>gross_capital</th>\n",
       "      <th>pop_growth</th>\n",
       "      <th>birth_rate</th>\n",
       "      <th>broad_money</th>\n",
       "      <th>final_consum</th>\n",
       "      <th>gen_govt_consum</th>\n",
       "      <th>gross_capital</th>\n",
       "      <th>household</th>\n",
       "      <th>unemployed</th>\n",
       "    </tr>\n",
       "  </thead>\n",
       "  <tbody>\n",
       "    <tr>\n",
       "      <th>gdp_growth</th>\n",
       "      <td>1.000000</td>\n",
       "      <td>0.086712</td>\n",
       "      <td>0.567216</td>\n",
       "      <td>0.553225</td>\n",
       "      <td>0.335249</td>\n",
       "      <td>0.855835</td>\n",
       "      <td>0.098183</td>\n",
       "      <td>0.825496</td>\n",
       "      <td>0.868848</td>\n",
       "      <td>-0.160783</td>\n",
       "    </tr>\n",
       "    <tr>\n",
       "      <th>gross_capital</th>\n",
       "      <td>0.086712</td>\n",
       "      <td>1.000000</td>\n",
       "      <td>-0.215243</td>\n",
       "      <td>-0.241668</td>\n",
       "      <td>-0.163803</td>\n",
       "      <td>0.266617</td>\n",
       "      <td>0.118075</td>\n",
       "      <td>0.187885</td>\n",
       "      <td>0.268592</td>\n",
       "      <td>-0.618524</td>\n",
       "    </tr>\n",
       "    <tr>\n",
       "      <th>pop_growth</th>\n",
       "      <td>0.567216</td>\n",
       "      <td>-0.215243</td>\n",
       "      <td>1.000000</td>\n",
       "      <td>0.978754</td>\n",
       "      <td>0.548336</td>\n",
       "      <td>0.470449</td>\n",
       "      <td>0.357042</td>\n",
       "      <td>0.317556</td>\n",
       "      <td>0.442187</td>\n",
       "      <td>0.279486</td>\n",
       "    </tr>\n",
       "    <tr>\n",
       "      <th>birth_rate</th>\n",
       "      <td>0.553225</td>\n",
       "      <td>-0.241668</td>\n",
       "      <td>0.978754</td>\n",
       "      <td>1.000000</td>\n",
       "      <td>0.530563</td>\n",
       "      <td>0.458319</td>\n",
       "      <td>0.370517</td>\n",
       "      <td>0.305254</td>\n",
       "      <td>0.428266</td>\n",
       "      <td>0.313783</td>\n",
       "    </tr>\n",
       "    <tr>\n",
       "      <th>broad_money</th>\n",
       "      <td>0.335249</td>\n",
       "      <td>-0.163803</td>\n",
       "      <td>0.548336</td>\n",
       "      <td>0.530563</td>\n",
       "      <td>1.000000</td>\n",
       "      <td>0.290507</td>\n",
       "      <td>0.287270</td>\n",
       "      <td>0.235561</td>\n",
       "      <td>0.267220</td>\n",
       "      <td>0.336335</td>\n",
       "    </tr>\n",
       "    <tr>\n",
       "      <th>final_consum</th>\n",
       "      <td>0.855835</td>\n",
       "      <td>0.266617</td>\n",
       "      <td>0.470449</td>\n",
       "      <td>0.458319</td>\n",
       "      <td>0.290507</td>\n",
       "      <td>1.000000</td>\n",
       "      <td>0.323250</td>\n",
       "      <td>0.700392</td>\n",
       "      <td>0.993526</td>\n",
       "      <td>-0.299310</td>\n",
       "    </tr>\n",
       "    <tr>\n",
       "      <th>gen_govt_consum</th>\n",
       "      <td>0.098183</td>\n",
       "      <td>0.118075</td>\n",
       "      <td>0.357042</td>\n",
       "      <td>0.370517</td>\n",
       "      <td>0.287270</td>\n",
       "      <td>0.323250</td>\n",
       "      <td>1.000000</td>\n",
       "      <td>0.033376</td>\n",
       "      <td>0.216641</td>\n",
       "      <td>0.007940</td>\n",
       "    </tr>\n",
       "    <tr>\n",
       "      <th>gross_capital</th>\n",
       "      <td>0.825496</td>\n",
       "      <td>0.187885</td>\n",
       "      <td>0.317556</td>\n",
       "      <td>0.305254</td>\n",
       "      <td>0.235561</td>\n",
       "      <td>0.700392</td>\n",
       "      <td>0.033376</td>\n",
       "      <td>1.000000</td>\n",
       "      <td>0.715021</td>\n",
       "      <td>-0.207261</td>\n",
       "    </tr>\n",
       "    <tr>\n",
       "      <th>household</th>\n",
       "      <td>0.868848</td>\n",
       "      <td>0.268592</td>\n",
       "      <td>0.442187</td>\n",
       "      <td>0.428266</td>\n",
       "      <td>0.267220</td>\n",
       "      <td>0.993526</td>\n",
       "      <td>0.216641</td>\n",
       "      <td>0.715021</td>\n",
       "      <td>1.000000</td>\n",
       "      <td>-0.304797</td>\n",
       "    </tr>\n",
       "    <tr>\n",
       "      <th>unemployed</th>\n",
       "      <td>-0.160783</td>\n",
       "      <td>-0.618524</td>\n",
       "      <td>0.279486</td>\n",
       "      <td>0.313783</td>\n",
       "      <td>0.336335</td>\n",
       "      <td>-0.299310</td>\n",
       "      <td>0.007940</td>\n",
       "      <td>-0.207261</td>\n",
       "      <td>-0.304797</td>\n",
       "      <td>1.000000</td>\n",
       "    </tr>\n",
       "  </tbody>\n",
       "</table>\n",
       "</div>"
      ],
      "text/plain": [
       "                 gdp_growth  gross_capital  pop_growth  birth_rate  \\\n",
       "gdp_growth         1.000000       0.086712    0.567216    0.553225   \n",
       "gross_capital      0.086712       1.000000   -0.215243   -0.241668   \n",
       "pop_growth         0.567216      -0.215243    1.000000    0.978754   \n",
       "birth_rate         0.553225      -0.241668    0.978754    1.000000   \n",
       "broad_money        0.335249      -0.163803    0.548336    0.530563   \n",
       "final_consum       0.855835       0.266617    0.470449    0.458319   \n",
       "gen_govt_consum    0.098183       0.118075    0.357042    0.370517   \n",
       "gross_capital      0.825496       0.187885    0.317556    0.305254   \n",
       "household          0.868848       0.268592    0.442187    0.428266   \n",
       "unemployed        -0.160783      -0.618524    0.279486    0.313783   \n",
       "\n",
       "                 broad_money  final_consum  gen_govt_consum  gross_capital  \\\n",
       "gdp_growth          0.335249      0.855835         0.098183       0.825496   \n",
       "gross_capital      -0.163803      0.266617         0.118075       0.187885   \n",
       "pop_growth          0.548336      0.470449         0.357042       0.317556   \n",
       "birth_rate          0.530563      0.458319         0.370517       0.305254   \n",
       "broad_money         1.000000      0.290507         0.287270       0.235561   \n",
       "final_consum        0.290507      1.000000         0.323250       0.700392   \n",
       "gen_govt_consum     0.287270      0.323250         1.000000       0.033376   \n",
       "gross_capital       0.235561      0.700392         0.033376       1.000000   \n",
       "household           0.267220      0.993526         0.216641       0.715021   \n",
       "unemployed          0.336335     -0.299310         0.007940      -0.207261   \n",
       "\n",
       "                 household  unemployed  \n",
       "gdp_growth        0.868848   -0.160783  \n",
       "gross_capital     0.268592   -0.618524  \n",
       "pop_growth        0.442187    0.279486  \n",
       "birth_rate        0.428266    0.313783  \n",
       "broad_money       0.267220    0.336335  \n",
       "final_consum      0.993526   -0.299310  \n",
       "gen_govt_consum   0.216641    0.007940  \n",
       "gross_capital     0.715021   -0.207261  \n",
       "household         1.000000   -0.304797  \n",
       "unemployed       -0.304797    1.000000  "
      ]
     },
     "metadata": {},
     "output_type": "display_data"
    },
    {
     "data": {
      "text/plain": [
       "<AxesSubplot:>"
      ]
     },
     "execution_count": 99,
     "metadata": {},
     "output_type": "execute_result"
    },
    {
     "data": {
      "image/png": "[encoded data removed]",
      "text/plain": [
       "<Figure size 432x288 with 2 Axes>"
      ]
     },
     "metadata": {
      "needs_background": "light"
     },
     "output_type": "display_data"
    }
   ],
   "source": [
    "corr = econ_df.corr()\n",
    "\n",
    "display(corr)\n",
    "\n",
    "sns.heatmap(corr, xticklabels = corr.columns, yticklabels = corr.columns, cmap = \"RdBu\")"
   ]
  },
  {
   "cell_type": "code",
   "execution_count": 100,
   "metadata": {},
   "outputs": [
    {
     "name": "stdout",
     "output_type": "stream",
     "text": [
      "Data Before\n",
      "----------------------------------------------------------------------------------------------------\n"
     ]
    },
    {
     "data": {
      "text/plain": [
       "const               314.550195\n",
       "gdp_growth            9.807879\n",
       "gross_capital         2.430057\n",
       "pop_growth           25.759263\n",
       "birth_rate           26.174368\n",
       "broad_money           1.633079\n",
       "final_consum       2305.724583\n",
       "gen_govt_consum      32.527332\n",
       "gross_capital         3.796420\n",
       "household          2129.093634\n",
       "unemployed            2.800008\n",
       "dtype: float64"
      ]
     },
     "metadata": {},
     "output_type": "display_data"
    },
    {
     "name": "stdout",
     "output_type": "stream",
     "text": [
      "Data After\n",
      "----------------------------------------------------------------------------------------------------\n"
     ]
    },
    {
     "data": {
      "text/plain": [
       "const              27.889334\n",
       "pop_growth          1.970769\n",
       "broad_money         1.587748\n",
       "gen_govt_consum     1.183152\n",
       "household           1.702965\n",
       "unemployed          1.587179\n",
       "dtype: float64"
      ]
     },
     "metadata": {},
     "output_type": "display_data"
    }
   ],
   "source": [
    "econ_df_before = econ_df\n",
    "econ_df_after = econ_df.drop (['gdp_growth', \"birth_rate\", \"final_consum\", 'gross_capital'], axis = 1)\n",
    "\n",
    "\n",
    "X1 = sm.tools.add_constant(econ_df_before)\n",
    "X2 = sm.tools.add_constant(econ_df_after)\n",
    "\n",
    "\n",
    "series_before = pd.Series([variance_inflation_factor(X1.values, i) for i in range(X1.shape[1])], index = X1.columns)\n",
    "series_after = pd.Series([variance_inflation_factor(X2.values, i) for i in range(X2.shape[1])], index = X2.columns)\n",
    "\n",
    "\n",
    "print(\"Data Before\")\n",
    "print('-'*100)\n",
    "display(series_before)\n",
    "\n",
    "print(\"Data After\")\n",
    "print('-'*100)\n",
    "display(series_after)"
   ]
  },
  {
   "cell_type": "code",
   "execution_count": 101,
   "metadata": {},
   "outputs": [
    {
     "data": {
      "image/png": "[encoded data removed]",
      "text/plain": [
       "<Figure size 2160x2160 with 25 Axes>"
      ]
     },
     "metadata": {
      "needs_background": "light"
     },
     "output_type": "display_data"
    }
   ],
   "source": [
    "pd.plotting.scatter_matrix(econ_df_after, alpha = 1, figsize = (30, 30))\n",
    "\n",
    "plt.show()"
   ]
  },
  {
   "cell_type": "code",
   "execution_count": 102,
   "metadata": {},
   "outputs": [
    {
     "data": {
      "text/html": [
       "<div>\n",
       "<style scoped>\n",
       "    .dataframe tbody tr th:only-of-type {\n",
       "        vertical-align: middle;\n",
       "    }\n",
       "\n",
       "    .dataframe tbody tr th {\n",
       "        vertical-align: top;\n",
       "    }\n",
       "\n",
       "    .dataframe thead th {\n",
       "        text-align: right;\n",
       "    }\n",
       "</style>\n",
       "<table border=\"1\" class=\"dataframe\">\n",
       "  <thead>\n",
       "    <tr style=\"text-align: right;\">\n",
       "      <th></th>\n",
       "      <th>gdp_growth</th>\n",
       "      <th>gross_capital</th>\n",
       "      <th>pop_growth</th>\n",
       "      <th>birth_rate</th>\n",
       "      <th>broad_money</th>\n",
       "      <th>final_consum</th>\n",
       "      <th>gen_govt_consum</th>\n",
       "      <th>gross_capital</th>\n",
       "      <th>household</th>\n",
       "      <th>unemployed</th>\n",
       "    </tr>\n",
       "  </thead>\n",
       "  <tbody>\n",
       "    <tr>\n",
       "      <th>count</th>\n",
       "      <td>48.000000</td>\n",
       "      <td>48.000000</td>\n",
       "      <td>48.000000</td>\n",
       "      <td>48.000000</td>\n",
       "      <td>48.000000</td>\n",
       "      <td>48.000000</td>\n",
       "      <td>48.000000</td>\n",
       "      <td>48.000000</td>\n",
       "      <td>48.000000</td>\n",
       "      <td>48.000000</td>\n",
       "    </tr>\n",
       "    <tr>\n",
       "      <th>mean</th>\n",
       "      <td>7.280315</td>\n",
       "      <td>32.433236</td>\n",
       "      <td>1.058072</td>\n",
       "      <td>16.340896</td>\n",
       "      <td>20.426621</td>\n",
       "      <td>5.820239</td>\n",
       "      <td>5.419214</td>\n",
       "      <td>8.965681</td>\n",
       "      <td>5.879176</td>\n",
       "      <td>3.678096</td>\n",
       "    </tr>\n",
       "    <tr>\n",
       "      <th>std</th>\n",
       "      <td>4.209306</td>\n",
       "      <td>4.136932</td>\n",
       "      <td>0.514039</td>\n",
       "      <td>6.814683</td>\n",
       "      <td>14.748442</td>\n",
       "      <td>3.627444</td>\n",
       "      <td>2.622254</td>\n",
       "      <td>12.629912</td>\n",
       "      <td>4.227720</td>\n",
       "      <td>0.968616</td>\n",
       "    </tr>\n",
       "    <tr>\n",
       "      <th>min</th>\n",
       "      <td>-5.471219</td>\n",
       "      <td>21.404761</td>\n",
       "      <td>0.211998</td>\n",
       "      <td>7.900000</td>\n",
       "      <td>2.980690</td>\n",
       "      <td>-9.288825</td>\n",
       "      <td>0.560957</td>\n",
       "      <td>-29.403255</td>\n",
       "      <td>-11.894309</td>\n",
       "      <td>2.048000</td>\n",
       "    </tr>\n",
       "    <tr>\n",
       "      <th>25%</th>\n",
       "      <td>4.374899</td>\n",
       "      <td>29.776910</td>\n",
       "      <td>0.615602</td>\n",
       "      <td>9.950000</td>\n",
       "      <td>10.586461</td>\n",
       "      <td>3.591334</td>\n",
       "      <td>3.384407</td>\n",
       "      <td>2.114078</td>\n",
       "      <td>3.825773</td>\n",
       "      <td>3.150475</td>\n",
       "    </tr>\n",
       "    <tr>\n",
       "      <th>50%</th>\n",
       "      <td>7.513471</td>\n",
       "      <td>32.335229</td>\n",
       "      <td>0.985132</td>\n",
       "      <td>15.150000</td>\n",
       "      <td>17.807598</td>\n",
       "      <td>6.531163</td>\n",
       "      <td>5.056509</td>\n",
       "      <td>7.431966</td>\n",
       "      <td>6.999971</td>\n",
       "      <td>3.700000</td>\n",
       "    </tr>\n",
       "    <tr>\n",
       "      <th>75%</th>\n",
       "      <td>10.376191</td>\n",
       "      <td>34.474874</td>\n",
       "      <td>1.525765</td>\n",
       "      <td>21.750000</td>\n",
       "      <td>26.923837</td>\n",
       "      <td>8.179037</td>\n",
       "      <td>7.188470</td>\n",
       "      <td>16.210283</td>\n",
       "      <td>8.938837</td>\n",
       "      <td>4.088500</td>\n",
       "    </tr>\n",
       "    <tr>\n",
       "      <th>max</th>\n",
       "      <td>14.827554</td>\n",
       "      <td>41.374062</td>\n",
       "      <td>2.263434</td>\n",
       "      <td>31.200000</td>\n",
       "      <td>85.203081</td>\n",
       "      <td>10.834413</td>\n",
       "      <td>11.742807</td>\n",
       "      <td>32.098276</td>\n",
       "      <td>11.711835</td>\n",
       "      <td>6.963000</td>\n",
       "    </tr>\n",
       "    <tr>\n",
       "      <th>+3_std</th>\n",
       "      <td>19.908232</td>\n",
       "      <td>44.844034</td>\n",
       "      <td>2.600188</td>\n",
       "      <td>36.784945</td>\n",
       "      <td>64.671947</td>\n",
       "      <td>16.702571</td>\n",
       "      <td>13.285976</td>\n",
       "      <td>46.855416</td>\n",
       "      <td>18.562336</td>\n",
       "      <td>6.583944</td>\n",
       "    </tr>\n",
       "    <tr>\n",
       "      <th>-3_std</th>\n",
       "      <td>-5.347602</td>\n",
       "      <td>20.022439</td>\n",
       "      <td>-0.484044</td>\n",
       "      <td>-4.103153</td>\n",
       "      <td>-23.818705</td>\n",
       "      <td>-5.062092</td>\n",
       "      <td>-2.447547</td>\n",
       "      <td>-28.924054</td>\n",
       "      <td>-6.803985</td>\n",
       "      <td>0.772247</td>\n",
       "    </tr>\n",
       "  </tbody>\n",
       "</table>\n",
       "</div>"
      ],
      "text/plain": [
       "        gdp_growth  gross_capital  pop_growth  birth_rate  broad_money  \\\n",
       "count    48.000000      48.000000   48.000000   48.000000    48.000000   \n",
       "mean      7.280315      32.433236    1.058072   16.340896    20.426621   \n",
       "std       4.209306       4.136932    0.514039    6.814683    14.748442   \n",
       "min      -5.471219      21.404761    0.211998    7.900000     2.980690   \n",
       "25%       4.374899      29.776910    0.615602    9.950000    10.586461   \n",
       "50%       7.513471      32.335229    0.985132   15.150000    17.807598   \n",
       "75%      10.376191      34.474874    1.525765   21.750000    26.923837   \n",
       "max      14.827554      41.374062    2.263434   31.200000    85.203081   \n",
       "+3_std   19.908232      44.844034    2.600188   36.784945    64.671947   \n",
       "-3_std   -5.347602      20.022439   -0.484044   -4.103153   -23.818705   \n",
       "\n",
       "        final_consum  gen_govt_consum  gross_capital  household  unemployed  \n",
       "count      48.000000        48.000000      48.000000  48.000000   48.000000  \n",
       "mean        5.820239         5.419214       8.965681   5.879176    3.678096  \n",
       "std         3.627444         2.622254      12.629912   4.227720    0.968616  \n",
       "min        -9.288825         0.560957     -29.403255 -11.894309    2.048000  \n",
       "25%         3.591334         3.384407       2.114078   3.825773    3.150475  \n",
       "50%         6.531163         5.056509       7.431966   6.999971    3.700000  \n",
       "75%         8.179037         7.188470      16.210283   8.938837    4.088500  \n",
       "max        10.834413        11.742807      32.098276  11.711835    6.963000  \n",
       "+3_std     16.702571        13.285976      46.855416  18.562336    6.583944  \n",
       "-3_std     -5.062092        -2.447547     -28.924054  -6.803985    0.772247  "
      ]
     },
     "execution_count": 102,
     "metadata": {},
     "output_type": "execute_result"
    }
   ],
   "source": [
    "desc_df = econ_df.describe()\n",
    "desc_df\n",
    "\n",
    "desc_df.loc[\"+3_std\"] = desc_df.loc[\"mean\"] + (desc_df.loc[\"std\"] * 3)\n",
    "desc_df.loc[\"-3_std\"] = desc_df.loc[\"mean\"] - (desc_df.loc[\"std\"] * 3)\n",
    "\n",
    "desc_df"
   ]
  },
  {
   "cell_type": "code",
   "execution_count": 103,
   "metadata": {},
   "outputs": [
    {
     "data": {
      "text/plain": [
       "Int64Index([1998, 2001], dtype='int64', name='Year')"
      ]
     },
     "execution_count": 103,
     "metadata": {},
     "output_type": "execute_result"
    }
   ],
   "source": [
    "econ_remove_df = econ_df[(np.abs(stats.zscore(econ_df)) < 3).all(axis = 1)]\n",
    "\n",
    "econ_df.index.difference(econ_remove_df.index)"
   ]
  },
  {
   "cell_type": "code",
   "execution_count": 106,
   "metadata": {},
   "outputs": [
    {
     "data": {
      "text/plain": [
       "LinearRegression()"
      ]
     },
     "execution_count": 106,
     "metadata": {},
     "output_type": "execute_result"
    }
   ],
   "source": [
    "# define our input variable (X) & output variable\n",
    "econ_df_after = econ_df.drop(['birth_rate', 'final_consum','gross_capital'], axis = 1)\n",
    "\n",
    "X = econ_df_after.drop(\"gdp_growth\", axis=1)\n",
    "Y = econ_df_after[[\"gdp_growth\"]]\n",
    "\n",
    "X_train, X_test, y_train, y_test = train_test_split(X, Y, test_size = 0.20, random_state = 1)\n",
    "\n",
    "regression_model = LinearRegression()\n",
    "\n",
    "regression_model.fit(X_train, Y_train)"
   ]
  },
  {
   "cell_type": "code",
   "execution_count": 107,
   "metadata": {},
   "outputs": [
    {
     "name": "stdout",
     "output_type": "stream",
     "text": [
      "The intercept for our model is 2.338\n",
      "----------------------------------------------------------------------------------------------------\n",
      "The coefficient for pop_growth is 2.1\n",
      "The coefficient for broad_money is 0.0079\n",
      "The coefficient for gen_govt_consum is -0.31\n",
      "The coefficient for household is 0.81\n",
      "The coefficient for unemployed is -0.077\n"
     ]
    }
   ],
   "source": [
    "intercept = regression_model.intercept_[0]\n",
    "coef = regression_model.coef_[0][0]\n",
    "\n",
    "print(\"The intercept for our model is {:.4}\".format(intercept))\n",
    "print('-'*100)\n",
    "\n",
    "for cf in zip(X.columns, regression_model.coef_[0]):\n",
    "    print(\"The coefficient for {} is {:.2}\".format(cf[0], cf[1]))"
   ]
  },
  {
   "cell_type": "code",
   "execution_count": 108,
   "metadata": {},
   "outputs": [
    {
     "data": {
      "text/plain": [
       "array([[ 8.85029644],\n",
       "       [ 7.99908502],\n",
       "       [ 5.48488073],\n",
       "       [ 4.72212226],\n",
       "       [11.26101721]])"
      ]
     },
     "execution_count": 108,
     "metadata": {},
     "output_type": "execute_result"
    }
   ],
   "source": [
    "y_predict = regression_model.predict(X_test)\n",
    "\n",
    "y_predict[:5]"
   ]
  },
  {
   "cell_type": "code",
   "execution_count": 109,
   "metadata": {},
   "outputs": [],
   "source": [
    "X2 = sm.add_constant(X)\n",
    "\n",
    "model = sm.OLS(Y, X2)\n",
    "\n",
    "est = model.fit()"
   ]
  },
  {
   "cell_type": "code",
   "execution_count": 110,
   "metadata": {},
   "outputs": [
    {
     "name": "stdout",
     "output_type": "stream",
     "text": [
      "0.39380940273210063 0.44115342478371267\n",
      "----------------------------------------------------------------------------------------------------\n",
      "For the White's Test\n",
      "The p-value was 0.3938\n",
      "We fail to reject the null hypthoesis, so there is no heteroscedasticity. \n",
      "\n",
      "0.2271604128358321 0.23919499858419868\n",
      "----------------------------------------------------------------------------------------------------\n",
      "For the Breusch-Pagan's Test\n",
      "The p-value was 0.2272\n",
      "We fail to reject the null hypthoesis, so there is no heteroscedasticity.\n"
     ]
    }
   ],
   "source": [
    "# Run the White's test\n",
    "_, pval, __, f_pval = diag.het_white(est.resid, est.model.exog)\n",
    "print(pval, f_pval)\n",
    "print('-'*100)\n",
    "\n",
    "# print the results of the test\n",
    "if pval > 0.05:\n",
    "    print(\"For the White's Test\")\n",
    "    print(\"The p-value was {:.4}\".format(pval))\n",
    "    print(\"We fail to reject the null hypthoesis, so there is no heteroscedasticity. \\n\")\n",
    "    \n",
    "else:\n",
    "    print(\"For the White's Test\")\n",
    "    print(\"The p-value was {:.4}\".format(pval))\n",
    "    print(\"We reject the null hypthoesis, so there is heteroscedasticity. \\n\")\n",
    "\n",
    "# Run the Breusch-Pagan test\n",
    "_, pval, __, f_pval = diag.het_breuschpagan(est.resid, est.model.exog)\n",
    "print(pval, f_pval)\n",
    "print('-'*100)\n",
    "\n",
    "# print the results of the test\n",
    "if pval > 0.05:\n",
    "    print(\"For the Breusch-Pagan's Test\")\n",
    "    print(\"The p-value was {:.4}\".format(pval))\n",
    "    print(\"We fail to reject the null hypthoesis, so there is no heteroscedasticity.\")\n",
    "\n",
    "else:\n",
    "    print(\"For the Breusch-Pagan's Test\")\n",
    "    print(\"The p-value was {:.4}\".format(pval))\n",
    "    print(\"We reject the null hypthoesis, so there is heteroscedasticity.\")"
   ]
  },
  {
   "cell_type": "code",
   "execution_count": 111,
   "metadata": {},
   "outputs": [
    {
     "name": "stdout",
     "output_type": "stream",
     "text": [
      "The number of lags will be 9\n",
      "----------------------------------------------------------------------------------------------------\n",
      "(array([1.68866887, 2.12947247, 3.37986208, 3.61860964, 5.66890798,\n",
      "       6.63396028, 8.47485512, 9.21426081, 9.43173926]), array([0.19377653, 0.34481879, 0.3366811 , 0.46007408, 0.33977968,\n",
      "       0.35602777, 0.29258733, 0.32454499, 0.39841189]))\n",
      "The lowest p-value found was 0.1938\n",
      "We fail to reject the null hypthoesis, so there is no autocorrelation.\n",
      "----------------------------------------------------------------------------------------------------\n"
     ]
    },
    {
     "name": "stderr",
     "output_type": "stream",
     "text": [
      "/opt/anaconda3/lib/python3.8/site-packages/statsmodels/stats/diagnostic.py:559: FutureWarning: The value returned will change to a single DataFrame after 0.12 is released.  Set return_df to True to use to return a DataFrame now.  Set return_df to False to silence this warning.\n",
      "  warnings.warn(msg, FutureWarning)\n"
     ]
    },
    {
     "data": {
      "image/png": "[encoded data removed]",
      "text/plain": [
       "<Figure size 432x288 with 1 Axes>"
      ]
     },
     "metadata": {
      "needs_background": "light"
     },
     "output_type": "display_data"
    }
   ],
   "source": [
    "lag = min(10, (len(X)//5))\n",
    "\n",
    "print('The number of lags will be {}'.format(lag))\n",
    "print('-'*100)\n",
    "\n",
    "\n",
    "test_results = diag.acorr_ljungbox(est.resid, lags = lag)\n",
    "\n",
    "\n",
    "print(test_results)\n",
    "ibvalue, p_val = test_results\n",
    "\n",
    "# print the results of the test\n",
    "if min(p_val) > 0.05:\n",
    "    print(\"The lowest p-value found was {:.4}\".format(min(p_val)))\n",
    "    print(\"We fail to reject the null hypthoesis, so there is no autocorrelation.\")\n",
    "    print('-'*100)\n",
    "else:\n",
    "    print(\"The lowest p-value found was {:.4}\".format(min(p_val)))\n",
    "    print(\"We reject the null hypthoesis, so there is autocorrelation.\")\n",
    "    print('-'*100)\n",
    "    \n",
    "sm.graphics.tsa.plot_acf(est.resid)\n",
    "plt.show()"
   ]
  },
  {
   "cell_type": "code",
   "execution_count": 112,
   "metadata": {},
   "outputs": [
    {
     "data": {
      "image/png": "[encoded data removed]",
      "text/plain": [
       "<Figure size 432x288 with 1 Axes>"
      ]
     },
     "metadata": {
      "needs_background": "light"
     },
     "output_type": "display_data"
    },
    {
     "data": {
      "text/plain": [
       "5.8194190207435286e-15"
      ]
     },
     "execution_count": 112,
     "metadata": {},
     "output_type": "execute_result"
    }
   ],
   "source": [
    "sm.qqplot(est.resid, line = 's')\n",
    "pylab.show()\n",
    "\n",
    "mean_residuals = sum(est.resid)/ len(est.resid)\n",
    "mean_residuals"
   ]
  },
  {
   "cell_type": "code",
   "execution_count": 113,
   "metadata": {},
   "outputs": [
    {
     "name": "stdout",
     "output_type": "stream",
     "text": [
      "MSE 1.8\n",
      "MAE 1.15\n",
      "RMSE 1.34\n"
     ]
    }
   ],
   "source": [
    "import math\n",
    "# calculate the mean squared error\n",
    "model_mse = mean_squared_error(y_test, y_predict)\n",
    "\n",
    "# calculate the mean absolute error\n",
    "model_mae = mean_absolute_error(y_test, y_predict)\n",
    "\n",
    "# calulcate the root mean squared error\n",
    "model_rmse =  math.sqrt(model_mse)\n",
    "\n",
    "# display the output\n",
    "print(\"MSE {:.3}\".format(model_mse))\n",
    "print(\"MAE {:.3}\".format(model_mae))\n",
    "print(\"RMSE {:.3}\".format(model_rmse))\n"
   ]
  },
  {
   "cell_type": "code",
   "execution_count": 114,
   "metadata": {},
   "outputs": [
    {
     "data": {
      "text/plain": [
       "0.6548931332836776"
      ]
     },
     "execution_count": 114,
     "metadata": {},
     "output_type": "execute_result"
    }
   ],
   "source": [
    "model_r2 = r2_score(y_test, y_predict)\n",
    "model_r2"
   ]
  },
  {
   "cell_type": "code",
   "execution_count": 115,
   "metadata": {},
   "outputs": [
    {
     "data": {
      "text/html": [
       "<div>\n",
       "<style scoped>\n",
       "    .dataframe tbody tr th:only-of-type {\n",
       "        vertical-align: middle;\n",
       "    }\n",
       "\n",
       "    .dataframe tbody tr th {\n",
       "        vertical-align: top;\n",
       "    }\n",
       "\n",
       "    .dataframe thead th {\n",
       "        text-align: right;\n",
       "    }\n",
       "</style>\n",
       "<table border=\"1\" class=\"dataframe\">\n",
       "  <thead>\n",
       "    <tr style=\"text-align: right;\">\n",
       "      <th></th>\n",
       "      <th>0</th>\n",
       "      <th>1</th>\n",
       "    </tr>\n",
       "  </thead>\n",
       "  <tbody>\n",
       "    <tr>\n",
       "      <th>const</th>\n",
       "      <td>-0.985490</td>\n",
       "      <td>4.778670</td>\n",
       "    </tr>\n",
       "    <tr>\n",
       "      <th>pop_growth</th>\n",
       "      <td>0.725690</td>\n",
       "      <td>3.738077</td>\n",
       "    </tr>\n",
       "    <tr>\n",
       "      <th>broad_money</th>\n",
       "      <td>-0.037678</td>\n",
       "      <td>0.056561</td>\n",
       "    </tr>\n",
       "    <tr>\n",
       "      <th>gen_govt_consum</th>\n",
       "      <td>-0.511816</td>\n",
       "      <td>-0.054271</td>\n",
       "    </tr>\n",
       "    <tr>\n",
       "      <th>household</th>\n",
       "      <td>0.600834</td>\n",
       "      <td>0.941309</td>\n",
       "    </tr>\n",
       "    <tr>\n",
       "      <th>unemployed</th>\n",
       "      <td>-0.763555</td>\n",
       "      <td>0.671108</td>\n",
       "    </tr>\n",
       "  </tbody>\n",
       "</table>\n",
       "</div>"
      ],
      "text/plain": [
       "                        0         1\n",
       "const           -0.985490  4.778670\n",
       "pop_growth       0.725690  3.738077\n",
       "broad_money     -0.037678  0.056561\n",
       "gen_govt_consum -0.511816 -0.054271\n",
       "household        0.600834  0.941309\n",
       "unemployed      -0.763555  0.671108"
      ]
     },
     "execution_count": 115,
     "metadata": {},
     "output_type": "execute_result"
    }
   ],
   "source": [
    "est.conf_int()"
   ]
  },
  {
   "cell_type": "code",
   "execution_count": 116,
   "metadata": {},
   "outputs": [
    {
     "data": {
      "text/plain": [
       "const              1.913421e-01\n",
       "pop_growth         4.644802e-03\n",
       "broad_money        6.879955e-01\n",
       "gen_govt_consum    1.653842e-02\n",
       "household          1.528547e-11\n",
       "unemployed         8.971543e-01\n",
       "dtype: float64"
      ]
     },
     "execution_count": 116,
     "metadata": {},
     "output_type": "execute_result"
    }
   ],
   "source": [
    "est.pvalues"
   ]
  },
  {
   "cell_type": "code",
   "execution_count": 117,
   "metadata": {},
   "outputs": [
    {
     "name": "stdout",
     "output_type": "stream",
     "text": [
      "                            OLS Regression Results                            \n",
      "==============================================================================\n",
      "Dep. Variable:             gdp_growth   R-squared:                       0.823\n",
      "Model:                            OLS   Adj. R-squared:                  0.802\n",
      "Method:                 Least Squares   F-statistic:                     39.05\n",
      "Date:                Wed, 17 Mar 2021   Prob (F-statistic):           9.69e-15\n",
      "Time:                        21:15:04   Log-Likelihood:                -95.041\n",
      "No. Observations:                  48   AIC:                             202.1\n",
      "Df Residuals:                      42   BIC:                             213.3\n",
      "Df Model:                           5                                         \n",
      "Covariance Type:            nonrobust                                         \n",
      "===================================================================================\n",
      "                      coef    std err          t      P>|t|      [0.025      0.975]\n",
      "-----------------------------------------------------------------------------------\n",
      "const               1.8966      1.428      1.328      0.191      -0.985       4.779\n",
      "pop_growth          2.2319      0.746      2.990      0.005       0.726       3.738\n",
      "broad_money         0.0094      0.023      0.404      0.688      -0.038       0.057\n",
      "gen_govt_consum    -0.2830      0.113     -2.497      0.017      -0.512      -0.054\n",
      "household           0.7711      0.084      9.141      0.000       0.601       0.941\n",
      "unemployed         -0.0462      0.355     -0.130      0.897      -0.764       0.671\n",
      "==============================================================================\n",
      "Omnibus:                        2.923   Durbin-Watson:                   1.607\n",
      "Prob(Omnibus):                  0.232   Jarque-Bera (JB):                2.314\n",
      "Skew:                           0.537   Prob(JB):                        0.314\n",
      "Kurtosis:                       3.060   Cond. No.                         143.\n",
      "==============================================================================\n",
      "\n",
      "Notes:\n",
      "[1] Standard Errors assume that the covariance matrix of the errors is correctly specified.\n"
     ]
    }
   ],
   "source": [
    "print(est.summary())"
   ]
  },
  {
   "cell_type": "code",
   "execution_count": 118,
   "metadata": {},
   "outputs": [
    {
     "data": {
      "text/plain": [
       "LinearRegression()"
      ]
     },
     "execution_count": 118,
     "metadata": {},
     "output_type": "execute_result"
    }
   ],
   "source": [
    "econ_df_after = econ_df.drop(['birth_rate', 'final_consum','gross_capital','broad_money',\n",
    "                              'unemployed'], axis = 1)\n",
    "\n",
    "X = econ_df_after.drop('gdp_growth', axis = 1)\n",
    "Y = econ_df_after[['gdp_growth']]\n",
    "\n",
    "# Split X and y into X_\n",
    "X_train, X_test, y_train, y_test = train_test_split(X, Y, test_size=0.20, random_state=1)\n",
    "\n",
    "# create a Linear Regression model object\n",
    "regression_model = LinearRegression()\n",
    "\n",
    "# pass through the X_train & y_train data set\n",
    "regression_model.fit(X_train, y_train)"
   ]
  },
  {
   "cell_type": "code",
   "execution_count": 119,
   "metadata": {},
   "outputs": [
    {
     "name": "stdout",
     "output_type": "stream",
     "text": [
      "                            OLS Regression Results                            \n",
      "==============================================================================\n",
      "Dep. Variable:             gdp_growth   R-squared:                       0.822\n",
      "Model:                            OLS   Adj. R-squared:                  0.810\n",
      "Method:                 Least Squares   F-statistic:                     67.86\n",
      "Date:                Wed, 17 Mar 2021   Prob (F-statistic):           1.53e-16\n",
      "Time:                        21:15:06   Log-Likelihood:                -95.134\n",
      "No. Observations:                  48   AIC:                             198.3\n",
      "Df Residuals:                      44   BIC:                             205.8\n",
      "Df Model:                           3                                         \n",
      "Covariance Type:            nonrobust                                         \n",
      "===================================================================================\n",
      "                      coef    std err          t      P>|t|      [0.025      0.975]\n",
      "-----------------------------------------------------------------------------------\n",
      "const               1.7518      0.730      2.401      0.021       0.281       3.222\n",
      "pop_growth          2.3208      0.608      3.818      0.000       1.096       3.546\n",
      "gen_govt_consum    -0.2764      0.109     -2.524      0.015      -0.497      -0.056\n",
      "household           0.7774      0.071     10.992      0.000       0.635       0.920\n",
      "==============================================================================\n",
      "Omnibus:                        3.414   Durbin-Watson:                   1.617\n",
      "Prob(Omnibus):                  0.181   Jarque-Bera (JB):                2.654\n",
      "Skew:                           0.570   Prob(JB):                        0.265\n",
      "Kurtosis:                       3.162   Cond. No.                         27.5\n",
      "==============================================================================\n",
      "\n",
      "Notes:\n",
      "[1] Standard Errors assume that the covariance matrix of the errors is correctly specified.\n"
     ]
    }
   ],
   "source": [
    "# define our intput\n",
    "X2 = sm.add_constant(X)\n",
    "\n",
    "# create a OLS model\n",
    "model = sm.OLS(Y, X2)\n",
    "\n",
    "# fit the data\n",
    "est = model.fit()\n",
    "\n",
    "print(est.summary())"
   ]
  },
  {
   "cell_type": "code",
   "execution_count": 123,
   "metadata": {},
   "outputs": [
    {
     "data": {
      "text/plain": [
       "array([[8.88514353]])"
      ]
     },
     "execution_count": 123,
     "metadata": {},
     "output_type": "execute_result"
    }
   ],
   "source": [
    "import pickle\n",
    "\n",
    "with open('my_multilinear_regression.sav','wb') as f:\n",
    "    pickle.dump(regression_model, f)\n",
    "with open('my_multilinear_regression.sav', 'rb') as pickle_file:\n",
    "    regression_model_2 = pickle.load(pickle_file)\n",
    "\n",
    "regression_model_2.predict([X_test.loc[2002]])"
   ]
  },
  {
   "cell_type": "code",
   "execution_count": null,
   "metadata": {},
   "outputs": [],
   "source": []
  }
 ],
 "metadata": {
  "kernelspec": {
   "display_name": "Python 3",
   "language": "python",
   "name": "python3"
  },
  "language_info": {
   "codemirror_mode": {
    "name": "ipython",
    "version": 3
   },
   "file_extension": ".py",
   "mimetype": "text/x-python",
   "name": "python",
   "nbconvert_exporter": "python",
   "pygments_lexer": "ipython3",
   "version": "3.8.5"
  }
 },
 "nbformat": 4,
 "nbformat_minor": 4
}
